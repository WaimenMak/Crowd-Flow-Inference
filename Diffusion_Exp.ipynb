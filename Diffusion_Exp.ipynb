{
 "cells": [
  {
   "cell_type": "code",
   "execution_count": 2,
   "id": "initial_id",
   "metadata": {
    "collapsed": true,
    "ExecuteTime": {
     "end_time": "2023-12-06T13:38:24.205402Z",
     "start_time": "2023-12-06T13:38:24.098221Z"
    }
   },
   "outputs": [],
   "source": [
    "import numpy as np\n",
    "import os\n",
    "from lib.utils import process_sensor_data\n",
    "df_dict = {}\n",
    "# Define path to parent directory containing subdirectories with CSV files\n",
    "parent_dir = './sc sensor'\n",
    "# adding to the df_dict\n",
    "# Loop through each subdirectory in the parent directory\n",
    "df_dict = process_sensor_data(parent_dir, df_dict)  # only process sensor 2"
   ]
  },
  {
   "cell_type": "code",
   "execution_count": 3,
   "outputs": [],
   "source": [
    "from lib.utils import gen_data_dict, seperate_up_down\n",
    "data_dict = gen_data_dict(df_dict)"
   ],
   "metadata": {
    "collapsed": false,
    "ExecuteTime": {
     "end_time": "2023-12-06T13:38:26.079489Z",
     "start_time": "2023-12-06T13:38:26.075724Z"
    }
   },
   "id": "2c54817c37fb7bcd"
  },
  {
   "cell_type": "code",
   "execution_count": 4,
   "outputs": [],
   "source": [
    "# process data dict to get the upstream and downstream data\n",
    "from lib.utils import seperate_up_down\n",
    "data_dict = seperate_up_down(data_dict)"
   ],
   "metadata": {
    "collapsed": false,
    "ExecuteTime": {
     "end_time": "2023-12-06T13:38:32.310032Z",
     "start_time": "2023-12-06T13:38:32.304645Z"
    }
   },
   "id": "ac38fb5ba8c514d2"
  },
  {
   "cell_type": "code",
   "execution_count": 58,
   "outputs": [],
   "source": [
    "import random\n",
    "def generate_insample_dataset(data_dict, save_mode=False):\n",
    "    \"\"\"\n",
    "    Upstream data: upstream sensor data (ts, node_num)\n",
    "    Downstream data: downstream sensor data (ts, 1)\n",
    "    \"\"\"\n",
    "    all_x, all_y = [], []\n",
    "    for scenario in data_dict.keys():\n",
    "        # scenario = './sc sensor/crossroad1'\n",
    "        data = data_dict[scenario]\n",
    "        upstream_data = data[:,0,0].reshape(-1,1)\n",
    "        downstream_data = data[:,1,1].reshape(-1,1)\n",
    "        x_offsets = np.sort(\n",
    "                # np.concatenate(([-week_size + 1, -day_size + 1], np.arange(-11, 1, 1)))\n",
    "                np.concatenate((np.arange(-7, 1, 1),))\n",
    "            )\n",
    "        # Predict the next 2 mins   \n",
    "        y_offsets = np.sort(np.arange(1, 2, 1))\n",
    "        min_t = abs(min(x_offsets))\n",
    "        max_t = abs(upstream_data.shape[0]- abs(max(y_offsets)))\n",
    "    \n",
    "        # max_t = abs(N - abs(max(y_offsets)))  # Exclusive\n",
    "        x, y = [], []\n",
    "        for t in range(min_t, max_t):\n",
    "            x_t = upstream_data[t + x_offsets, ...]\n",
    "            # also store the downstream data to last row of x_t\n",
    "            x_t = np.concatenate((x_t, downstream_data[t + x_offsets, ...]), axis=1)\n",
    "            y_t = downstream_data[t + y_offsets, ...]\n",
    "            x.append(x_t)\n",
    "            y.append(y_t)\n",
    "\n",
    "        x = np.stack(x, axis=0)\n",
    "        y = np.stack(y, axis=0)\n",
    "    \n",
    "        all_x.append(x)\n",
    "        all_y.append(y)\n",
    "\n",
    "    zipped_lists = list(zip(all_x, all_y))\n",
    "    random.shuffle(zipped_lists)  # shuffle data\n",
    "    all_x, all_y = zip(*zipped_lists)\n",
    "\n",
    "    x = np.concatenate(all_x, axis=0)\n",
    "    y = np.concatenate(all_y, axis=0)\n",
    "\n",
    "    # divide dataset\n",
    "    num_samples = x.shape[0]  # num_samples = ts - 12*2 +1\n",
    "\n",
    "    len_train = round(num_samples * 0.7)\n",
    "    len_val = round(num_samples * 0.1)\n",
    "    # x_train: (num_samples, sliced_ts, num_nodes) y_train: (nums_samples, sliced_ts, 1)\n",
    "    x_train, y_train = x[: len_train, ...], y[: len_train, ...]\n",
    "    x_val, y_val = x[len_train: len_train + len_val, ...], y[len_train: len_train + len_val, ...]\n",
    "    x_test, y_test = x[len_train + len_val:, ...], y[len_train + len_val:, ...]\n",
    "            \n",
    "    return x_train, y_train, x_val, y_val, x_test, y_test\n",
    "\n",
    "df_dict = process_sensor_data(parent_dir, df_dict)\n",
    "data_dict = gen_data_dict(df_dict)\n",
    "x_train, y_train, x_val, y_val, x_test, y_test = generate_insample_dataset(data_dict)"
   ],
   "metadata": {
    "collapsed": false,
    "ExecuteTime": {
     "end_time": "2023-12-01T12:25:14.806464Z",
     "start_time": "2023-12-01T12:25:14.745147Z"
    }
   },
   "id": "227ca6c2e218e294"
  },
  {
   "cell_type": "code",
   "execution_count": 34,
   "outputs": [],
   "source": [
    "up = data_dict['./sc sensor/crossroad1'][:,0,0].reshape(-1,1) # shape (ts, num_nodes)\n",
    "down = data_dict['./sc sensor/crossroad1'][:,1,1].reshape(-1,1) # shape (ts, 1)"
   ],
   "metadata": {
    "collapsed": false,
    "ExecuteTime": {
     "end_time": "2023-12-01T12:08:24.576955Z",
     "start_time": "2023-12-01T12:08:24.571720Z"
    }
   },
   "id": "96ba6ed0ae6fad60"
  },
  {
   "cell_type": "code",
   "execution_count": 35,
   "outputs": [],
   "source": [
    "# x_train, y_train, x_val, y_val, x_test, y_test = generate_insample_dataset(up, down)"
   ],
   "metadata": {
    "collapsed": false,
    "ExecuteTime": {
     "end_time": "2023-12-01T12:08:25.742090Z",
     "start_time": "2023-12-01T12:08:25.733453Z"
    }
   },
   "id": "2d4b118836039881"
  },
  {
   "cell_type": "code",
   "execution_count": 53,
   "outputs": [],
   "source": [
    "data_dict = gen_data_dict(df_dict)"
   ],
   "metadata": {
    "collapsed": false,
    "ExecuteTime": {
     "end_time": "2023-12-01T12:17:11.383416Z",
     "start_time": "2023-12-01T12:17:11.376541Z"
    }
   },
   "id": "8ef9914d38b29e86"
  },
  {
   "cell_type": "code",
   "execution_count": 60,
   "outputs": [
    {
     "data": {
      "text/plain": "(52, 8, 2)"
     },
     "execution_count": 60,
     "metadata": {},
     "output_type": "execute_result"
    }
   ],
   "source": [
    "x_train.shape"
   ],
   "metadata": {
    "collapsed": false,
    "ExecuteTime": {
     "end_time": "2023-12-01T12:25:31.741170Z",
     "start_time": "2023-12-01T12:25:31.736370Z"
    }
   },
   "id": "56e09f2a2eed7cd4"
  },
  {
   "cell_type": "code",
   "execution_count": 18,
   "outputs": [
    {
     "data": {
      "text/plain": "array([0.5     , 0.25    , 0.125   , 0.0625  , 0.03125 , 0.015625])"
     },
     "execution_count": 18,
     "metadata": {},
     "output_type": "execute_result"
    }
   ],
   "source": [
    "import numpy as np\n",
    "\n",
    "def diffusion_sequence_vectorized(F, n):\n",
    "    indices = np.arange(n + 1)\n",
    "    result = F * np.power(1 - F, indices)\n",
    "    return result\n",
    "\n",
    "# Example usage\n",
    "initial_value = 0.5\n",
    "sequence_length = 5\n",
    "\n",
    "result_sequence = diffusion_sequence_vectorized(initial_value, sequence_length)\n",
    "result_sequence"
   ],
   "metadata": {
    "collapsed": false,
    "ExecuteTime": {
     "end_time": "2023-11-27T13:46:53.141792Z",
     "start_time": "2023-11-27T13:46:53.137261Z"
    }
   },
   "id": "6ad69af10705553"
  },
  {
   "cell_type": "code",
   "execution_count": 39,
   "outputs": [
    {
     "ename": "RuntimeError",
     "evalue": "permute(sparse_coo): number of dimensions in the tensor input does not match the length of the desired ordering of dimensions i.e. input.dim() = 4 is not equal to len(dims) = 3",
     "output_type": "error",
     "traceback": [
      "\u001B[0;31m---------------------------------------------------------------------------\u001B[0m",
      "\u001B[0;31mRuntimeError\u001B[0m                              Traceback (most recent call last)",
      "Cell \u001B[0;32mIn [39], line 57\u001B[0m\n\u001B[1;32m     55\u001B[0m \u001B[38;5;28;01mfor\u001B[39;00m epoch \u001B[38;5;129;01min\u001B[39;00m \u001B[38;5;28mrange\u001B[39m(\u001B[38;5;241m2000\u001B[39m):\n\u001B[1;32m     56\u001B[0m     \u001B[38;5;28;01mfor\u001B[39;00m i, (x, y) \u001B[38;5;129;01min\u001B[39;00m \u001B[38;5;28menumerate\u001B[39m(train_dataloader):\n\u001B[0;32m---> 57\u001B[0m         g\u001B[38;5;241m.\u001B[39mndata[\u001B[38;5;124m'\u001B[39m\u001B[38;5;124mfeature\u001B[39m\u001B[38;5;124m'\u001B[39m] \u001B[38;5;241m=\u001B[39m \u001B[43mx\u001B[49m\u001B[38;5;241;43m.\u001B[39;49m\u001B[43mpermute\u001B[49m\u001B[43m(\u001B[49m\u001B[38;5;241;43m2\u001B[39;49m\u001B[43m,\u001B[49m\u001B[43m \u001B[49m\u001B[38;5;241;43m0\u001B[39;49m\u001B[43m,\u001B[49m\u001B[43m \u001B[49m\u001B[38;5;241;43m1\u001B[39;49m\u001B[43m)\u001B[49m  \u001B[38;5;66;03m# [node, batch_size, num_timesteps_input]\u001B[39;00m\n\u001B[1;32m     58\u001B[0m         g\u001B[38;5;241m.\u001B[39mndata[\u001B[38;5;124m'\u001B[39m\u001B[38;5;124mlabel\u001B[39m\u001B[38;5;124m'\u001B[39m] \u001B[38;5;241m=\u001B[39m y\u001B[38;5;241m.\u001B[39mpermute(\u001B[38;5;241m2\u001B[39m, \u001B[38;5;241m0\u001B[39m, \u001B[38;5;241m1\u001B[39m)  \u001B[38;5;66;03m# [node, batch_size, pred_horizon]\u001B[39;00m\n\u001B[1;32m     60\u001B[0m         \u001B[38;5;66;03m# Perform message passing and reduce on all edges\u001B[39;00m\n",
      "\u001B[0;31mRuntimeError\u001B[0m: permute(sparse_coo): number of dimensions in the tensor input does not match the length of the desired ordering of dimensions i.e. input.dim() = 4 is not equal to len(dims) = 3"
     ]
    }
   ],
   "source": [
    "import dgl\n",
    "import torch\n",
    "import torch.nn as nn\n",
    "from torch.utils.data import DataLoader\n",
    "\n",
    "# Example data and graph creation\n",
    "src = np.array([0, 1])\n",
    "dst = np.array([3, 2])\n",
    "g = dgl.graph((src, dst))\n",
    "\n",
    "g.ndata['label'] = torch.randn(4, 64)\n",
    "g.ndata['feature'] = torch.randn(4, 10, 64)\n",
    "# g.edata['feature'] = torch.randn(2, 10, 64)\n",
    "# g.edata['label'] = torch.randn(2, 64)\n",
    "\n",
    "# Dummy DataLoader for demonstration purposes\n",
    "class DummyDataset(torch.utils.data.Dataset):\n",
    "    def __getitem__(self, index):\n",
    "        x = torch.randn(10, 2, 64)  # Replace this with your actual input data\n",
    "        y = torch.randn(10, 2, 64)  # Replace this with your actual output data\n",
    "        return x, y\n",
    "\n",
    "    def __len__(self):\n",
    "        return 100  # Replace this with the actual size of your dataset\n",
    "\n",
    "train_dataloader = DataLoader(DummyDataset(), batch_size=2, shuffle=True)\n",
    "\n",
    "# Simple prediction model (modify this according to your actual model)\n",
    "class PredictionModel(nn.Module):\n",
    "    def __init__(self):\n",
    "        super(PredictionModel, self).__init__()\n",
    "\n",
    "    def forward(self, src_features, dst_features):\n",
    "        # Dummy model: Mean of src and dst features for each edge\n",
    "        edge_features = (src_features + dst_features) / 2\n",
    "        return edge_features\n",
    "\n",
    "# Instantiate the prediction model\n",
    "model = PredictionModel()\n",
    "\n",
    "# Define a message passing function\n",
    "def message_func(edges):\n",
    "    src_features = edges.src['feature']\n",
    "    dst_features = edges.dst['feature']\n",
    "    return {'message': model(src_features, dst_features)}\n",
    "\n",
    "# Define a reduce function\n",
    "def reduce_func(nodes):\n",
    "    return {'aggregate': torch.mean(nodes.mailbox['message'], dim=1)}\n",
    "\n",
    "# Set the message and reduce functions\n",
    "# g.update_all(message_func, reduce_func)\n",
    "\n",
    "# Training loop\n",
    "for epoch in range(2000):\n",
    "    for i, (x, y) in enumerate(train_dataloader):\n",
    "        g.ndata['feature'] = x.permute(2, 0, 1)  # [node, batch_size, num_timesteps_input]\n",
    "        g.ndata['label'] = y.permute(2, 0, 1)  # [node, batch_size, pred_horizon]\n",
    "\n",
    "        # Perform message passing and reduce on all edges\n",
    "        g.send(g.edges(), message_func)\n",
    "        g.recv(g.nodes(), reduce_func)\n",
    "\n",
    "        # Access the result after message passing and reduce\n",
    "        edge_predictions = g.ndata['aggregate']\n",
    "\n",
    "        # Print or use edge_predictions as needed\n",
    "        print(\"Edge Predictions:\", edge_predictions)\n"
   ],
   "metadata": {
    "collapsed": false,
    "ExecuteTime": {
     "end_time": "2023-12-06T22:20:01.889398Z",
     "start_time": "2023-12-06T22:20:01.866658Z"
    }
   },
   "id": "2db11506e546fa71"
  },
  {
   "cell_type": "code",
   "execution_count": 48,
   "outputs": [
    {
     "data": {
      "text/plain": "torch.Size([4, 10, 64])"
     },
     "execution_count": 48,
     "metadata": {},
     "output_type": "execute_result"
    }
   ],
   "source": [
    "src = np.array([0, 1])\n",
    "dst = np.array([3, 2])\n",
    "g = dgl.graph((src, dst))\n",
    "\n",
    "# g.ndata['label'] = torch.randn(4, 64)\n",
    "g.ndata['feature'] = torch.randn(4, 10, 64)\n",
    "g.dstdata['feature'].shape"
   ],
   "metadata": {
    "collapsed": false,
    "ExecuteTime": {
     "end_time": "2023-12-06T22:24:30.185448Z",
     "start_time": "2023-12-06T22:24:30.179695Z"
    }
   },
   "id": "55c3648fd8596fea"
  },
  {
   "cell_type": "code",
   "execution_count": 1,
   "outputs": [
    {
     "data": {
      "text/plain": "<All keys matched successfully>"
     },
     "execution_count": 1,
     "metadata": {},
     "output_type": "execute_result"
    }
   ],
   "source": [
    "# load model from checkpoint\n",
    "import torch\n",
    "from Diffusion_Network import Diffusion_Model\n",
    "import numpy as np\n",
    "\n",
    "from torch.utils.data import DataLoader\n",
    "from lib.dataloader import FlowDataset\n",
    "from lib.utils import gen_data_dict, process_sensor_data, generate_ood_dataset, StandardScaler, generate_insample_dataset_ver2\n",
    "from lib.utils import generating_ood_dataset, seperate_up_down, generating_insample_dataset, get_trainable_params_size\n",
    "import dgl\n",
    "\n",
    "df_dict = {}\n",
    "# Define path to parent directory containing subdirectories with CSV files\n",
    "parent_dir = './sc sensor'\n",
    "# adding to the df_dict\n",
    "# Loop through each subdirectory in the parent directory\n",
    "df_dict = process_sensor_data(parent_dir, df_dict)\n",
    "\n",
    "data_dict = gen_data_dict(df_dict)\n",
    "# in distributino\n",
    "# x_train, y_train, x_val, y_val, x_test, y_test = generate_insample_dataset_ver2(data_dict)\n",
    "\n",
    "\n",
    "# out of distribution\n",
    "train_sc = ['./sc sensor/crossroad2']\n",
    "test_sc = ['./sc sensor/crossroad3']\n",
    "# for sc in data_dict.keys():\n",
    "#     if sc not in train_sc:\n",
    "#         test_sc.append(sc)\n",
    "\n",
    "#seperate upstream and downstream\n",
    "data_dict = seperate_up_down(data_dict)\n",
    "data_dict['./sc sensor/crossroad4'] = data_dict['./sc sensor/crossroad4'][..., :4]\n",
    "# for k in data_dict.keys():  # debug\n",
    "#     data_dict[k] = data_dict[k][:,[0,3]]\n",
    "\n",
    "# x_train, y_train, x_val, y_val, x_test, y_test = generating_ood_dataset(data_dict, train_sc, test_sc, lags=5)\n",
    "x_train, y_train, x_val, y_val, x_test, y_test = generating_insample_dataset(data_dict, train_sc,\n",
    "                                                                             lags=5,\n",
    "                                                                             shuffle=False)\n",
    "\n",
    "num_input_timesteps = x_train.shape[1] # number of input time steps\n",
    "num_nodes = x_train.shape[2] # number of ancestor nodes, minus the down stream node\n",
    "\n",
    "train_dataset = FlowDataset(np.concatenate([x_train, x_val], axis=0),\n",
    "                            np.concatenate([y_train, y_val], axis=0), batch_size=10)\n",
    "train_dataloader = DataLoader(train_dataset, batch_size=10)\n",
    "# set seed\n",
    "torch.manual_seed(1)\n",
    "#normalization\n",
    "x_scalar = StandardScaler(mean=np.concatenate([x_train, x_val]).mean(),\n",
    "                          std=np.concatenate([x_train, x_val]).std())\n",
    "\n",
    "#processing graph data\n",
    "# src = np.array([0])\n",
    "# dst = np.array([1])\n",
    "\n",
    "src = np.array([0, 2])\n",
    "dst = np.array([3, 1])\n",
    "\n",
    "g = dgl.graph((src, dst))\n",
    "g.edata['distance'] = torch.FloatTensor([50, 50]) # 50m\n",
    "\n",
    "# train\n",
    "model = Diffusion_Model(num_edges=len(src), num_timesteps_input=x_train.shape[1], graph=g, scalar=x_scalar)\n",
    "# model load statedict\n",
    "model.load_state_dict(torch.load(\"./checkpoint/diffusion/diffusion_model.pth\"))\n"
   ],
   "metadata": {
    "collapsed": false,
    "ExecuteTime": {
     "end_time": "2023-12-13T14:26:19.938038Z",
     "start_time": "2023-12-13T14:26:18.290195Z"
    }
   },
   "id": "24910b08714fada7"
  },
  {
   "cell_type": "code",
   "execution_count": 2,
   "outputs": [],
   "source": [
    "# x = torch.cat(x_train, x_val, )\n",
    "with torch.no_grad():\n",
    "    x_up = torch.FloatTensor(x_test[..., src].transpose(2, 0, 1)) # [num of src, batch_size, num_timesteps_input], num of src = num of dst = num of edges\n",
    "    x_down = torch.FloatTensor(x_test[..., dst].transpose(2, 0, 1)) # [num of dst, batch_size, num_timesteps_input]\n",
    "    v = model.velocity_model(x_up, x_down).numpy()\n",
    "    flow = torch.sum(x_up, dim=2).numpy()"
   ],
   "metadata": {
    "collapsed": false,
    "ExecuteTime": {
     "end_time": "2023-12-13T14:26:22.776250Z",
     "start_time": "2023-12-13T14:26:22.758021Z"
    }
   },
   "id": "6d7ac015dcd97c79"
  },
  {
   "cell_type": "code",
   "execution_count": 3,
   "outputs": [
    {
     "data": {
      "text/plain": "[<matplotlib.lines.Line2D at 0x142401eb0>]"
     },
     "execution_count": 3,
     "metadata": {},
     "output_type": "execute_result"
    },
    {
     "data": {
      "text/plain": "<Figure size 432x288 with 1 Axes>",
      "image/png": "[encoded data removed]"
     },
     "metadata": {
      "needs_background": "light"
     },
     "output_type": "display_data"
    }
   ],
   "source": [
    "import matplotlib.pyplot as plt\n",
    "plt.plot(flow[0, :], v[:, 0], '*')\n",
    "plt.plot(flow[1, :], v[:, 1], 'o')"
   ],
   "metadata": {
    "collapsed": false,
    "ExecuteTime": {
     "end_time": "2023-12-13T14:26:24.013194Z",
     "start_time": "2023-12-13T14:26:23.529377Z"
    }
   },
   "id": "9b58862bd4fa6017"
  },
  {
   "cell_type": "code",
   "execution_count": 11,
   "outputs": [
    {
     "data": {
      "text/plain": "[<matplotlib.lines.Line2D at 0x165b20ac0>]"
     },
     "execution_count": 11,
     "metadata": {},
     "output_type": "execute_result"
    },
    {
     "data": {
      "text/plain": "<Figure size 432x288 with 1 Axes>",
      "image/png": "[encoded data removed]"
     },
     "metadata": {
      "needs_background": "light"
     },
     "output_type": "display_data"
    }
   ],
   "source": [
    "plt.plot(flow[0, :], v[:, 0], '*')\n",
    "plt.plot(flow[1, :], v[:, 1], 'o')"
   ],
   "metadata": {
    "collapsed": false,
    "ExecuteTime": {
     "end_time": "2023-12-12T21:14:17.221962Z",
     "start_time": "2023-12-12T21:14:17.171697Z"
    }
   },
   "id": "24d3d700b52a3c44"
  },
  {
   "cell_type": "code",
   "execution_count": 4,
   "outputs": [],
   "source": [
    "x_train = np.concatenate([x_train, x_val], axis=0)\n",
    "with torch.no_grad():\n",
    "    x_up = torch.FloatTensor(x_train[..., src].transpose(2, 0, 1)) # [num of src, batch_size, num_timesteps_input], num of src = num of dst = num of edges\n",
    "    x_down = torch.FloatTensor(x_train[..., dst].transpose(2, 0, 1)) # [num of dst, batch_size, num_timesteps_input]\n",
    "    v = model.velocity_model(x_up, x_down).numpy()\n",
    "    flow = torch.sum(x_up, dim=2).numpy()\n",
    "    down_flow = torch.sum(x_down, dim=2).numpy()"
   ],
   "metadata": {
    "collapsed": false,
    "ExecuteTime": {
     "end_time": "2023-12-13T14:26:35.603670Z",
     "start_time": "2023-12-13T14:26:35.600155Z"
    }
   },
   "id": "a21e22b6f6bbe861"
  },
  {
   "cell_type": "code",
   "execution_count": 5,
   "outputs": [
    {
     "data": {
      "text/plain": "[<matplotlib.lines.Line2D at 0x14263a640>]"
     },
     "execution_count": 5,
     "metadata": {},
     "output_type": "execute_result"
    },
    {
     "data": {
      "text/plain": "<Figure size 432x288 with 1 Axes>",
      "image/png": "[encoded data removed]"
     },
     "metadata": {
      "needs_background": "light"
     },
     "output_type": "display_data"
    }
   ],
   "source": [
    "plt.plot(flow[0, :], v[:, 0], '*')\n",
    "plt.plot(flow[1, :], v[:, 1], 'o')"
   ],
   "metadata": {
    "collapsed": false,
    "ExecuteTime": {
     "end_time": "2023-12-13T14:26:36.203397Z",
     "start_time": "2023-12-13T14:26:36.155474Z"
    }
   },
   "id": "51fbbcebec0aa6d8"
  },
  {
   "cell_type": "code",
   "execution_count": 18,
   "outputs": [
    {
     "data": {
      "text/plain": "[<matplotlib.lines.Line2D at 0x165d435e0>]"
     },
     "execution_count": 18,
     "metadata": {},
     "output_type": "execute_result"
    },
    {
     "data": {
      "text/plain": "<Figure size 432x288 with 1 Axes>",
      "image/png": "[encoded data removed]"
     },
     "metadata": {
      "needs_background": "light"
     },
     "output_type": "display_data"
    }
   ],
   "source": [
    "plt.plot(flow[0, :], v[:, 0], '*')\n",
    "# plt.plot(flow[1, :], v[:, 1], 'o')"
   ],
   "metadata": {
    "collapsed": false,
    "ExecuteTime": {
     "end_time": "2023-12-12T21:16:55.456933Z",
     "start_time": "2023-12-12T21:16:55.412631Z"
    }
   },
   "id": "160b3b040683b99c"
  },
  {
   "cell_type": "code",
   "execution_count": 17,
   "outputs": [
    {
     "data": {
      "text/plain": "[<matplotlib.lines.Line2D at 0x165cd0a00>]"
     },
     "execution_count": 17,
     "metadata": {},
     "output_type": "execute_result"
    },
    {
     "data": {
      "text/plain": "<Figure size 432x288 with 1 Axes>",
      "image/png": "[encoded data removed]"
     },
     "metadata": {
      "needs_background": "light"
     },
     "output_type": "display_data"
    }
   ],
   "source": [
    "plt.plot(down_flow[0, :], v[:, 0], '*')\n",
    "# plt.plot(down_flow[1, :], v[:, 1], 'o')"
   ],
   "metadata": {
    "collapsed": false,
    "ExecuteTime": {
     "end_time": "2023-12-12T21:16:29.579308Z",
     "start_time": "2023-12-12T21:16:29.529884Z"
    }
   },
   "id": "b694930c8dc113d7"
  },
  {
   "cell_type": "code",
   "execution_count": 20,
   "outputs": [
    {
     "data": {
      "text/plain": "[<matplotlib.lines.Line2D at 0x165e226a0>]"
     },
     "execution_count": 20,
     "metadata": {},
     "output_type": "execute_result"
    },
    {
     "data": {
      "text/plain": "<Figure size 432x288 with 1 Axes>",
      "image/png": "[encoded data removed]"
     },
     "metadata": {
      "needs_background": "light"
     },
     "output_type": "display_data"
    }
   ],
   "source": [
    "plt.plot(down_flow[0, :] + flow[0, :], v[:, 0], '*')"
   ],
   "metadata": {
    "collapsed": false,
    "ExecuteTime": {
     "end_time": "2023-12-12T21:33:57.795991Z",
     "start_time": "2023-12-12T21:33:57.744140Z"
    }
   },
   "id": "46e24925a0834bd6"
  },
  {
   "cell_type": "code",
   "execution_count": 21,
   "outputs": [
    {
     "data": {
      "text/plain": "[<matplotlib.lines.Line2D at 0x165e8bc70>]"
     },
     "execution_count": 21,
     "metadata": {},
     "output_type": "execute_result"
    },
    {
     "data": {
      "text/plain": "<Figure size 432x288 with 1 Axes>",
      "image/png": "[encoded data removed]"
     },
     "metadata": {
      "needs_background": "light"
     },
     "output_type": "display_data"
    }
   ],
   "source": [
    "plt.plot(down_flow[1, :] + flow[1, :], v[:, 1], '*')"
   ],
   "metadata": {
    "collapsed": false,
    "ExecuteTime": {
     "end_time": "2023-12-12T21:35:24.076773Z",
     "start_time": "2023-12-12T21:35:24.035602Z"
    }
   },
   "id": "84a7d6e4c96b4474"
  }
 ],
 "metadata": {
  "kernelspec": {
   "display_name": "Python 3",
   "language": "python",
   "name": "python3"
  },
  "language_info": {
   "codemirror_mode": {
    "name": "ipython",
    "version": 2
   },
   "file_extension": ".py",
   "mimetype": "text/x-python",
   "name": "python",
   "nbconvert_exporter": "python",
   "pygments_lexer": "ipython2",
   "version": "2.7.6"
  }
 },
 "nbformat": 4,
 "nbformat_minor": 5
}
