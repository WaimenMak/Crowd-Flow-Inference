{
 "cells": [
  {
   "cell_type": "code",
   "execution_count": 2,
   "id": "initial_id",
   "metadata": {
    "collapsed": true,
    "ExecuteTime": {
     "end_time": "2024-03-05T06:35:47.762767Z",
     "start_time": "2024-03-05T06:35:43.391315Z"
    }
   },
   "outputs": [
    {
     "name": "stdout",
     "output_type": "stream",
     "text": [
      "2024/03/05 07:35:44.526 root         INFO     Loading scenarios data ...\n",
      "2024/03/05 07:35:44.528 NOMAD.output_manager INFO     Loading trajectories ...\n",
      "2024/03/05 07:35:47.746 NOMAD.output_manager INFO     Loading local route fields ...\n"
     ]
    }
   ],
   "source": [
    "from NOMAD import output_manager\n",
    "from NOMAD.output_manager import loadScenario\n",
    "import os\n",
    "# scenario\n",
    "# Load all simulation data \n",
    "scenario_filename = \"~/NOMAD/output/simple_corr_example_2048342406_20240219074041.scen\"\n",
    "traj_filename = \"~/NOMAD/output/simple_corr_example_2048342406_20240219074041.traj\"\n",
    "os.path.expanduser(scenario_filename)\n",
    "scenario_filename = os.path.expanduser(scenario_filename)\n",
    "traj_filename = os.path.expanduser(traj_filename)\n",
    "scenario_data, trajactory_data, description_data, lrcm_data = loadScenario(scenario_filename)\n",
    "\n",
    "# Load simulation data per file type\n",
    "# from NOMAD.output_manager import SimulationFileOutputManager\n",
    "\n",
    "# scenario_data = SimulationFileOutputManager.readScenarioDataFile(scenario_data_filename)\n",
    "# trajactory_data = SimulationFileOutputManager.readTrajactoryDataFile(trajactory_data_filename)\n",
    "# description_data = SimulationFileOutputManager.readDescriptionDataFile(description_data_filename)\n",
    "# lrcm_data = SimulationFileOutputManager.readLrcmDataFile(lrcm_data_filename)"
   ]
  },
  {
   "cell_type": "code",
   "outputs": [
    {
     "data": {
      "text/plain": "array([[5.00000000e+03, 6.33998550e-01, 8.25574694e-01, ...,\n        5.00093284e+03, 2.00000000e+00, 5.00018657e+03],\n       [5.00010000e+03, 7.68000671e-01, 8.25947456e-01, ...,\n        5.00093284e+03, 2.00000000e+00, 5.00018657e+03],\n       [5.00020000e+03, 9.02002551e-01, 8.26315729e-01, ...,\n        5.00093284e+03, 2.00000000e+00, 5.00058657e+03],\n       ...,\n       [5.01390000e+03, 1.90182858e+01, 1.37709315e+00, ...,\n        5.01510597e+03, 1.00000000e+00, 5.01424754e+03],\n       [5.01400000e+03, 1.91522869e+01, 1.37710787e+00, ...,\n        5.01510597e+03, 1.00000000e+00, 5.01424754e+03],\n       [5.01410000e+03, 1.92862854e+01, 1.37712205e+00, ...,\n        5.01510597e+03, 1.00000000e+00, 5.01424754e+03]])"
     },
     "execution_count": 6,
     "metadata": {},
     "output_type": "execute_result"
    }
   ],
   "source": [
    "trajactory_data[999]"
   ],
   "metadata": {
    "collapsed": false,
    "ExecuteTime": {
     "end_time": "2024-02-27T12:26:59.971258Z",
     "start_time": "2024-02-27T12:26:59.962537Z"
    }
   },
   "id": "690cb9346c932782",
   "execution_count": 6
  },
  {
   "cell_type": "code",
   "outputs": [
    {
     "ename": "TypeError",
     "evalue": "unpack expected 2 arguments, got 1",
     "output_type": "error",
     "traceback": [
      "\u001B[0;31m---------------------------------------------------------------------------\u001B[0m",
      "\u001B[0;31mTypeError\u001B[0m                                 Traceback (most recent call last)",
      "Cell \u001B[0;32mIn[10], line 2\u001B[0m\n\u001B[1;32m      1\u001B[0m \u001B[38;5;28;01mimport\u001B[39;00m \u001B[38;5;21;01mstruct\u001B[39;00m\n\u001B[0;32m----> 2\u001B[0m trajactory_data \u001B[38;5;241m=\u001B[39m \u001B[43mstruct\u001B[49m\u001B[38;5;241;43m.\u001B[39;49m\u001B[43munpack\u001B[49m\u001B[43m(\u001B[49m\u001B[43mtraj_filename\u001B[49m\u001B[43m)\u001B[49m\n",
      "\u001B[0;31mTypeError\u001B[0m: unpack expected 2 arguments, got 1"
     ]
    }
   ],
   "source": [
    "import struct\n",
    "trajactory_data = struct.unpack(traj_filename, )"
   ],
   "metadata": {
    "collapsed": false,
    "ExecuteTime": {
     "end_time": "2024-02-20T07:16:19.273915Z",
     "start_time": "2024-02-20T07:16:18.920057Z"
    }
   },
   "id": "fe4327140c539065",
   "execution_count": 10
  },
  {
   "cell_type": "code",
   "outputs": [
    {
     "data": {
      "text/plain": "<Figure size 640x480 with 1 Axes>",
      "image/png": "[encoded data removed]"
     },
     "metadata": {},
     "output_type": "display_data"
    }
   ],
   "source": [
    "x = trajactory_data[0][:,2]\n",
    "y = trajactory_data[0][:,1]\n",
    "# plot trajectory\n",
    "import matplotlib.pyplot as plt\n",
    "plt.plot(x, y)\n",
    "ax = plt.gca()\n",
    "# ax.set_aspect(1)"
   ],
   "metadata": {
    "collapsed": false,
    "ExecuteTime": {
     "end_time": "2024-03-05T06:36:20.276061Z",
     "start_time": "2024-03-05T06:36:20.190230Z"
    }
   },
   "id": "3afb4fd796d4bca9",
   "execution_count": 4
  },
  {
   "cell_type": "code",
   "outputs": [
    {
     "data": {
      "text/plain": "pedInfo(ID=999, activityLog=[activity(activityID='exit_right', activityType='Walking', destinationID='exit_right', endTime=5014.200000000001, pedState=1, startTime=5000.0), activity(activityID='exit_right', activityType='sink', destinationID='exit_right', endTime=5014.200000000001, pedState=None, startTime=5014.200000000001)], activityPatternID='walk_to_right', endTime=5014.200000000001, groupID=None, radius=0.25, startTime=5000.0)"
     },
     "execution_count": 10,
     "metadata": {},
     "output_type": "execute_result"
    }
   ],
   "source": [
    "description_data[999]"
   ],
   "metadata": {
    "collapsed": false,
    "ExecuteTime": {
     "end_time": "2024-03-05T08:39:34.479283Z",
     "start_time": "2024-03-05T08:39:34.474481Z"
    }
   },
   "id": "afc2e0e3c4b73e9",
   "execution_count": 10
  },
  {
   "cell_type": "code",
   "outputs": [
    {
     "name": "stdout",
     "output_type": "stream",
     "text": [
      "2024/02/19 13:28:52.358 root         INFO     Loading scenarios data ...\r\n",
      "2024/02/19 13:28:52.358 root         INFO     Loading scenarios data ...\r\n",
      "Traceback (most recent call last):\r\n",
      "  File \"/Users/mmai/anaconda3/envs/dgl/bin/nomad\", line 8, in <module>\r\n",
      "    sys.exit(run())\r\n",
      "  File \"/Users/mmai/Devs/nomad-publish/NOMAD/NOMAD_cmd.py\", line 35, in run\r\n",
      "    actionFcn(*inputArgs)\r\n",
      "  File \"/Users/mmai/Devs/nomad-publish/NOMAD/simple_visualisation.py\", line 323, in visualize\r\n",
      "    SimpleNomadVisualizer(scenDataFlNm, guiBackend)\r\n",
      "  File \"/Users/mmai/Devs/nomad-publish/NOMAD/simple_visualisation.py\", line 48, in __init__\r\n",
      "    self.scenData, self.trajData, self.descData, self.lrcmData = loadScenario(scenDataFlNm)\r\n",
      "  File \"/Users/mmai/Devs/nomad-publish/NOMAD/output_manager.py\", line 1222, in loadScenario\r\n",
      "    scenData = SimulationFileOutputManager.readScenarioDataFile(scenDataFlNm)\r\n",
      "  File \"/Users/mmai/Devs/nomad-publish/NOMAD/output_manager.py\", line 756, in readScenarioDataFile\r\n",
      "    with open(flNm) as f:\r\n",
      "FileNotFoundError: [Errno 2] No such file or directory: '~/NOMAD/output/simple_corr_example_2048342406_20240219074041.scen'\r\n"
     ]
    }
   ],
   "source": [
    "!nomad v \"simple_corr_example_2048342406_20240219074041.scen\""
   ],
   "metadata": {
    "collapsed": false,
    "ExecuteTime": {
     "end_time": "2024-02-19T12:28:52.564112Z",
     "start_time": "2024-02-19T12:28:51.414875Z"
    }
   },
   "id": "e3731a363e5c5afe",
   "execution_count": 16
  }
 ],
 "metadata": {
  "kernelspec": {
   "display_name": "Python 3",
   "language": "python",
   "name": "python3"
  },
  "language_info": {
   "codemirror_mode": {
    "name": "ipython",
    "version": 2
   },
   "file_extension": ".py",
   "mimetype": "text/x-python",
   "name": "python",
   "nbconvert_exporter": "python",
   "pygments_lexer": "ipython2",
   "version": "2.7.6"
  }
 },
 "nbformat": 4,
 "nbformat_minor": 5
}
